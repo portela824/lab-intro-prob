{
 "cells": [
  {
   "cell_type": "code",
   "execution_count": null,
   "metadata": {},
   "outputs": [],
   "source": [
    "# José G. Portela "
   ]
  },
  {
   "cell_type": "markdown",
   "metadata": {},
   "source": [
    "# Introduction To Probability\n",
    "## Challenge 1\n",
    "\n",
    "A and B are events of a probability space with $(\\omega, \\sigma, P)$ such that $P(A) = 0.3$, $P(B) = 0.6$ and $P(A \\cap B) = 0.1$\n",
    "\n",
    "Which of the following statements are false?\n",
    "* $P(A \\cup B) = 0.6$\n",
    "* $P(A \\cap B^{C}) = 0.2$\n",
    "* $P(A \\cap (B \\cup B^{C})) = 0.4$\n",
    "* $P(A^{C} \\cap B^{C}) = 0.3$\n",
    "* $P((A \\cap B)^{C}) = 0.9$"
   ]
  },
  {
   "cell_type": "code",
   "execution_count": null,
   "metadata": {},
   "outputs": [],
   "source": [
    "\"\"\"\n",
    "\n",
    "The statement 1 is false. The probability of the union of two events is given by 𝑃(𝐴∪𝐵) = 𝑃(𝐴) + 𝑃(𝐵) - 𝑃(𝐴∩𝐵). \n",
    "Substituting the given values, 𝑃(𝐴∪𝐵) = 0.3 + 0.6 - 0.1 = 0.8, not 0.6.\n",
    "\n",
    "The statement 4 is false. The probability of the 𝑃(𝐴^C ∩ 𝐵^C) = 1 - 𝑃(𝐴∪𝐵). \n",
    "Substituting the given values, 𝑃(𝐴^C ∩ 𝐵^C) =  1 - (0.3 + 0.6 - 0.1 ) = 0.2, not 0.3\n",
    "\n",
    "In summary, statements 1 and 4 are false.  \n",
    "\n",
    "\"\"\""
   ]
  },
  {
   "cell_type": "markdown",
   "metadata": {},
   "source": [
    "## Challenge 2\n",
    "There is a box with 10 white balls, 12 red balls and 8 black balls. Calculate the probability of:\n",
    "* Taking a white ball out.\n",
    "* Taking a white ball out after taking a black ball out.\n",
    "* Taking a red ball out after taking a black and a red ball out.\n",
    "* Taking a red ball out after taking a black and a red ball out with reposition.\n",
    "\n",
    "**Hint**: Reposition means putting back the ball into the box after taking it out."
   ]
  },
  {
   "cell_type": "code",
   "execution_count": null,
   "metadata": {},
   "outputs": [],
   "source": [
    "\"\"\"\n",
    "Event W = white balls\n",
    "Event R = red balls\n",
    "Event B = black balls\n",
    "\n",
    "Total balls 10+12+8 = 30\n",
    "\n",
    "1. Taking a white ball out : P(W)= 10/30 = 1/3 = 33.33%\n",
    "2. Taking a white ball out after taking a black ball out : P(W∣B) = 10/29 = 34.48 %\n",
    "3. Taking a red ball out after taking a black and a red ball out : P(R∣B∩R) = 11/28 = 39.28%\n",
    "4. Taking a red ball out after taking a black and a red ball out with reposition : P(R∣B∩R with repsition) = 12/30 = 40%\n",
    "\n",
    "\n",
    "\n",
    "\n",
    "\"\"\""
   ]
  },
  {
   "cell_type": "markdown",
   "metadata": {},
   "source": [
    "## Challenge 3\n",
    "\n",
    "You are planning to go on a picnic today but the morning is cloudy. You hate rain so you don't know whether to go out or stay home! To help you make a decision, you gather the following data about rainy days:\n",
    "\n",
    "* Knowing that it is a rainy day, the probability of cloudy is 50%!\n",
    "* The probability of any day (rainy or not) starting off cloudy is 40%. \n",
    "* This month is usually dry so only 3 of 30 days (10%) tend to be rainy. \n",
    "\n",
    "What is the probability of rain, given the day started cloudy?"
   ]
  },
  {
   "cell_type": "code",
   "execution_count": null,
   "metadata": {},
   "outputs": [],
   "source": [
    "\"\"\"\n",
    "P(Rain∣Cloudy)= P(Cloudy∣Rain)⋅P(Rain)/P(Cloudy) where:\n",
    "\n",
    "P(Rain∣Cloudy) is the probability of rain given that the day started cloudy.\n",
    "\n",
    "P(Cloudy∣Rain) is the probability of cloudy given that it is a rainy day.\n",
    "\n",
    "P(Rain) is the overall probability of rain.\n",
    "\n",
    "P(Cloudy) is the overall probability of a cloudy day.\n",
    "\n",
    "Based on the information:\n",
    "\n",
    "P(Cloudy∣Rain)= 0.5 (the probability of cloudy given that it is a rainy day).\n",
    "\n",
    "P(Rain)= 0.1 (the probability of rain, as only 3 out of 30 days tend to be rainy).\n",
    "\n",
    "P(Cloudy)= 0.4 (the probability of any day starting off cloudy).\n",
    "\n",
    "\n",
    "\n",
    "P(Rain∣Cloudy)= P(Cloudy∣Rain)⋅P(Rain)/P(Cloudy) = 0.5*0.1/0.4 = 0.05/0.04 = 0.125 = 12.5%\n",
    "\n",
    "\"\"\""
   ]
  },
  {
   "cell_type": "markdown",
   "metadata": {},
   "source": [
    "## Challenge 4\n",
    "\n",
    "One thousand people were asked through a telephone survey whether they thought more street lighting is needed at night or not.\n",
    "\n",
    "Out of the 480 men that answered the survey, 324 said yes and 156 said no. On the other hand, out of the 520 women that answered, 351 said yes and 169 said no. \n",
    "\n",
    "We wonder if men and women have a different opinions about the street lighting matter. Is gender relevant or irrelevant to the question?\n",
    "\n",
    "Consider the following events:\n",
    "- The answer is yes, so the person that answered thinks that more street lighting is needed.\n",
    "- The person who answered is a man.\n",
    "\n",
    "We want to know if these events are independent, that is, if the fact of wanting more light depends on whether one is male or female. Are these events independent or not?\n",
    "\n",
    "**Hint**: To clearly compare the answers by gender, it is best to place the data in a table."
   ]
  },
  {
   "cell_type": "code",
   "execution_count": 1,
   "metadata": {
    "ExecuteTime": {
     "end_time": "2024-01-19T21:05:51.271327Z",
     "start_time": "2024-01-19T21:05:50.737147Z"
    }
   },
   "outputs": [
    {
     "name": "stdout",
     "output_type": "stream",
     "text": [
      "           Gender  Yes   No  Total\n",
      "0            Male  324  156    480\n",
      "1          Female  351  169    520\n",
      "Total  MaleFemale  675  325   1000\n"
     ]
    }
   ],
   "source": [
    "import pandas as pd\n",
    "\n",
    "data = {'Gender': ['Male', 'Female'],\n",
    "        'Yes': [324, 351],\n",
    "        'No': [156, 169],\n",
    "        'Total': [480, 520]}\n",
    "\n",
    "df = pd.DataFrame(data)\n",
    "\n",
    "# Calculate row and column totals\n",
    "df.loc['Total'] = df.sum()\n",
    "df['Total'] = df['Yes'] + df['No']\n",
    "\n",
    "print(df)\n"
   ]
  },
  {
   "cell_type": "code",
   "execution_count": 2,
   "metadata": {
    "ExecuteTime": {
     "end_time": "2024-01-19T21:06:07.787931Z",
     "start_time": "2024-01-19T21:06:07.742060Z"
    },
    "cell_style": "center"
   },
   "outputs": [
    {
     "name": "stdout",
     "output_type": "stream",
     "text": [
      "P(Yes) = 0.675\n",
      "P(Male) = 0.480\n",
      "P(Yes | Male) = 0.675\n",
      "The events are independent.\n"
     ]
    }
   ],
   "source": [
    "def calculate_and_check_independence(df):\n",
    "    \n",
    "    P_Yes = df['Yes']['Total'] / df['Total']['Total']\n",
    "\n",
    "    \n",
    "    if 'Male' in df['Gender'].values:\n",
    "        \n",
    "        male_row = df[df['Gender'] == 'Male']\n",
    "        P_Male = male_row['Total'].values[0] / df['Total']['Total']\n",
    "        P_Yes_given_Male = male_row['Yes'].values[0] / male_row['Total'].values[0]\n",
    "\n",
    "        \n",
    "        are_independent = P_Yes_given_Male == P_Yes\n",
    "\n",
    "        print(f\"P(Yes) = {P_Yes:.3f}\")\n",
    "        print(f\"P(Male) = {P_Male:.3f}\")\n",
    "        print(f\"P(Yes | Male) = {P_Yes_given_Male:.3f}\")\n",
    "\n",
    "        if are_independent:\n",
    "            print(\"The events are independent.\")\n",
    "        else:\n",
    "            print(\"The events are not independent.\")\n",
    "    else:\n",
    "        print(\"'Male' is not present in the 'Gender' column.\")\n",
    "\n",
    "\n",
    "calculate_and_check_independence(df)\n"
   ]
  }
 ],
 "metadata": {
  "kernelspec": {
   "display_name": "Python 3 (ipykernel)",
   "language": "python",
   "name": "python3"
  },
  "language_info": {
   "codemirror_mode": {
    "name": "ipython",
    "version": 3
   },
   "file_extension": ".py",
   "mimetype": "text/x-python",
   "name": "python",
   "nbconvert_exporter": "python",
   "pygments_lexer": "ipython3",
   "version": "3.9.18"
  },
  "toc": {
   "base_numbering": 1,
   "nav_menu": {},
   "number_sections": true,
   "sideBar": true,
   "skip_h1_title": false,
   "title_cell": "Table of Contents",
   "title_sidebar": "Contents",
   "toc_cell": false,
   "toc_position": {},
   "toc_section_display": true,
   "toc_window_display": false
  },
  "varInspector": {
   "cols": {
    "lenName": 16,
    "lenType": 16,
    "lenVar": 40
   },
   "kernels_config": {
    "python": {
     "delete_cmd_postfix": "",
     "delete_cmd_prefix": "del ",
     "library": "var_list.py",
     "varRefreshCmd": "print(var_dic_list())"
    },
    "r": {
     "delete_cmd_postfix": ") ",
     "delete_cmd_prefix": "rm(",
     "library": "var_list.r",
     "varRefreshCmd": "cat(var_dic_list()) "
    }
   },
   "types_to_exclude": [
    "module",
    "function",
    "builtin_function_or_method",
    "instance",
    "_Feature"
   ],
   "window_display": false
  }
 },
 "nbformat": 4,
 "nbformat_minor": 2
}
